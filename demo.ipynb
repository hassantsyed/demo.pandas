{
 "cells": [
  {
   "attachments": {},
   "cell_type": "markdown",
   "id": "e9be5eb3",
   "metadata": {},
   "source": [
    "# Part 1: Pandas code generation helper."
   ]
  },
  {
   "cell_type": "code",
   "execution_count": null,
   "id": "7e10bc6d",
   "metadata": {},
   "outputs": [],
   "source": [
    "import pandas as pd\n",
    "import numpy as np\n",
    "import requests"
   ]
  },
  {
   "cell_type": "code",
   "execution_count": null,
   "id": "235adf46",
   "metadata": {},
   "outputs": [],
   "source": [
    "# This calls a model finetuned on pandas. All data is encrypted and nothing is saved.\n",
    "class Framer:\n",
    "    def __call__(self, df, objective):\n",
    "        dtypes = df.dtypes\n",
    "        columns = df.columns\n",
    "        head = df.head()\n",
    "        data = {\"dtypes\": str(dtypes), \"columns\": str(columns), \"head\": str(head), \"objective\": objective}\n",
    "        res = requests.post(\"https://gptapi-production.up.railway.app/api/v1/finetuned/pandas\", json=data)\n",
    "        return res.json()[\"result\"]"
   ]
  },
  {
   "cell_type": "code",
   "execution_count": null,
   "id": "12c57331",
   "metadata": {},
   "outputs": [],
   "source": [
    "framer = Framer()"
   ]
  },
  {
   "cell_type": "code",
   "execution_count": null,
   "id": "5125fc15",
   "metadata": {},
   "outputs": [],
   "source": [
    "# Generate a test dataframe\n",
    "# Define start and end dates for the dataframe\n",
    "start_date = '2022-01-01'\n",
    "end_date = '2022-12-31'\n",
    "\n",
    "# Generate dates between start and end date\n",
    "dates = pd.date_range(start=start_date, end=end_date, freq='D')\n",
    "\n",
    "# Generate random ids with normal distribution across dates\n",
    "ids = np.random.normal(loc=50, scale=15, size=len(dates))\n",
    "ids = np.clip(ids, 0, 100)  # Ensure ids are between 0 and \n",
    "ids = np.round(ids).astype(int)  # Round to nearest integer and convert to int\n",
    "\n",
    "# Create dataframe\n",
    "df = pd.DataFrame({'date': dates, 'key': ids})\n"
   ]
  },
  {
   "cell_type": "code",
   "execution_count": null,
   "id": "af914fe2",
   "metadata": {},
   "outputs": [],
   "source": [
    "df.head()"
   ]
  },
  {
   "cell_type": "code",
   "execution_count": null,
   "id": "cd8a582b",
   "metadata": {},
   "outputs": [],
   "source": [
    "framer(df, \"how many times does each key appear?\")"
   ]
  },
  {
   "cell_type": "code",
   "execution_count": null,
   "id": "b7d064b1",
   "metadata": {},
   "outputs": [],
   "source": [
    "df.groupby(\"key\").size()"
   ]
  },
  {
   "cell_type": "code",
   "execution_count": null,
   "id": "37cf9589",
   "metadata": {},
   "outputs": [],
   "source": [
    "framer(df, \"What is the earliest and latest date key 28 appears?\")"
   ]
  },
  {
   "cell_type": "code",
   "execution_count": null,
   "id": "140ff68c",
   "metadata": {},
   "outputs": [],
   "source": [
    "print(df[df.key == 28].date.min())\n",
    "print(df[df.key == 28].date.max())"
   ]
  },
  {
   "cell_type": "code",
   "execution_count": null,
   "id": "db038b17",
   "metadata": {},
   "outputs": [],
   "source": [
    "framer(df, \"Create a dataframe called existence where the columns are key, min, max, count. Min is the first date which the key appeared and max is the last date the key appeared. Count is the amount of times that key appeared in the entire dataframe.\")"
   ]
  },
  {
   "cell_type": "code",
   "execution_count": null,
   "id": "8156ffa5",
   "metadata": {},
   "outputs": [],
   "source": [
    "existence = df.groupby(['key'])['date'].agg(['min', 'max', 'count'])"
   ]
  },
  {
   "cell_type": "code",
   "execution_count": null,
   "id": "b37646eb",
   "metadata": {},
   "outputs": [],
   "source": [
    "existence.head()"
   ]
  },
  {
   "attachments": {},
   "cell_type": "markdown",
   "id": "bd82c8f4",
   "metadata": {},
   "source": [
    "# Part 2: Running the base code generation model locally."
   ]
  },
  {
   "cell_type": "code",
   "execution_count": null,
   "id": "9dd8565f",
   "metadata": {},
   "outputs": [],
   "source": [
    "from transformers import AutoTokenizer, AutoModelForCausalLM\n",
    "import torch"
   ]
  },
  {
   "cell_type": "code",
   "execution_count": null,
   "id": "bc9e310b",
   "metadata": {},
   "outputs": [],
   "source": [
    "# Ensure you follow the steps in the readme, otherwise this step will not work.\n",
    "model = AutoModelForCausalLM.from_pretrained(\"./checkpoints/codegen-16B-mono\")\n",
    "tokenizer = AutoTokenizer.from_pretrained(\"./tokenizer\")"
   ]
  },
  {
   "cell_type": "code",
   "execution_count": null,
   "id": "931c6c92",
   "metadata": {},
   "outputs": [],
   "source": [
    "def predict(objective):\n",
    "    input_ids = tokenizer(objective, return_tensors=\"pt\").input_ids\n",
    "    generated_ids = model.generate(input_ids, max_length=128)\n",
    "    res = tokenizer.decode(generated_ids[0], skip_special_tokens=True)\n",
    "    return res"
   ]
  },
  {
   "cell_type": "code",
   "execution_count": null,
   "id": "755633be",
   "metadata": {},
   "outputs": [],
   "source": [
    "print(predict(\"Get the unique lines in this pandas dataframe\"))"
   ]
  }
 ],
 "metadata": {
  "kernelspec": {
   "display_name": "aidemos",
   "language": "python",
   "name": "python3"
  },
  "language_info": {
   "codemirror_mode": {
    "name": "ipython",
    "version": 3
   },
   "file_extension": ".py",
   "mimetype": "text/x-python",
   "name": "python",
   "nbconvert_exporter": "python",
   "pygments_lexer": "ipython3",
   "version": "3.9.16"
  },
  "vscode": {
   "interpreter": {
    "hash": "796acc43e1f9aee8619042ea079a55ef1b56a12a5e9f36c07f26219ad2105508"
   }
  }
 },
 "nbformat": 4,
 "nbformat_minor": 5
}
